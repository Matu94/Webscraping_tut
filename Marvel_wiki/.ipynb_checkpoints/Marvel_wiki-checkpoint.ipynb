{
 "cells": [
  {
   "cell_type": "code",
   "execution_count": 1,
   "id": "00e3ef10",
   "metadata": {},
   "outputs": [],
   "source": [
    "from bs4 import BeautifulSoup as bs\n",
    "import requests"
   ]
  },
  {
   "cell_type": "code",
   "execution_count": 2,
   "id": "b6607f8b",
   "metadata": {},
   "outputs": [],
   "source": [
    "characters = ['https://en.wikipedia.org/wiki/Iron_Man',\n",
    "'https://en.wikipedia.org/wiki/Hulk',\n",
    "'https://en.wikipedia.org/wiki/Thor_(Marvel_Comics)', \n",
    "'https://en.wikipedia.org/wiki/Captain_America']"
   ]
  },
  {
   "cell_type": "code",
   "execution_count": 18,
   "id": "5898d8b1",
   "metadata": {},
   "outputs": [
    {
     "name": "stdout",
     "output_type": "stream",
     "text": [
      "16603 https://en.wikipedia.org/wiki/Iron_Man\n",
      "9475 https://en.wikipedia.org/wiki/Hulk\n",
      "6902 https://en.wikipedia.org/wiki/Thor_(Marvel_Comics)\n",
      "14465 https://en.wikipedia.org/wiki/Captain_America\n"
     ]
    }
   ],
   "source": [
    "for i in characters:  \n",
    "    url = i\n",
    "    response = requests.get(url)\n",
    "    html = response.content\n",
    "    soup = bs(html, \"lxml\")\n",
    "    full_content_length = 0\n",
    "    all_p = soup.find_all(\"p\")\n",
    "    for p in all_p: #count words\n",
    "        paragraph_length = (len(p.get_text(strip = True, separator = ' ').split()))\n",
    "        full_content_length = full_content_length + paragraph_length\n",
    "    print(full_content_length, url)"
   ]
  },
  {
   "cell_type": "code",
   "execution_count": null,
   "id": "9dc2b0d1",
   "metadata": {},
   "outputs": [],
   "source": []
  },
  {
   "cell_type": "code",
   "execution_count": null,
   "id": "0c6329f2",
   "metadata": {},
   "outputs": [],
   "source": []
  }
 ],
 "metadata": {
  "kernelspec": {
   "display_name": "Python 3 (ipykernel)",
   "language": "python",
   "name": "python3"
  },
  "language_info": {
   "codemirror_mode": {
    "name": "ipython",
    "version": 3
   },
   "file_extension": ".py",
   "mimetype": "text/x-python",
   "name": "python",
   "nbconvert_exporter": "python",
   "pygments_lexer": "ipython3",
   "version": "3.10.2"
  }
 },
 "nbformat": 4,
 "nbformat_minor": 5
}
