{
 "cells": [
  {
   "cell_type": "code",
   "execution_count": 3,
   "id": "e9e76f5d",
   "metadata": {},
   "outputs": [],
   "source": [
    "#Understand the magic in the previus task\n",
    "dates = ['cica', 'kutya', 'mérésihiba']\n",
    "dates = [date.upper() for date in dates]"
   ]
  },
  {
   "cell_type": "code",
   "execution_count": 4,
   "id": "ab4efc68",
   "metadata": {},
   "outputs": [
    {
     "name": "stdout",
     "output_type": "stream",
     "text": [
      "['CICA', 'KUTYA', 'MÉRÉSIHIBA']\n"
     ]
    }
   ],
   "source": [
    "print(dates)"
   ]
  },
  {
   "cell_type": "markdown",
   "id": "fb77d2de",
   "metadata": {},
   "source": [
    "# Webscraping multiple pages\n",
    "https://data36.com/scrape-multiple-web-pages-beautiful-soup-tutorial/"
   ]
  },
  {
   "cell_type": "code",
   "execution_count": 1,
   "id": "d7081b80",
   "metadata": {},
   "outputs": [],
   "source": [
    "from bs4 import BeautifulSoup as bs\n",
    "import requests\n",
    "import numpy as np\n",
    "import pandas as pd\n",
    "import matplotlib.pyplot as plt\n",
    "%matplotlib inline "
   ]
  },
  {
   "cell_type": "markdown",
   "id": "a69d4761",
   "metadata": {},
   "source": [
    "## Collecting all bestseller book titles"
   ]
  },
  {
   "cell_type": "code",
   "execution_count": 8,
   "id": "82d12e9d",
   "metadata": {},
   "outputs": [
    {
     "name": "stdout",
     "output_type": "stream",
     "text": [
      "https://www.bookdepository.com/bestsellers?page=1\n",
      "https://www.bookdepository.com/bestsellers?page=2\n",
      "https://www.bookdepository.com/bestsellers?page=3\n",
      "https://www.bookdepository.com/bestsellers?page=4\n",
      "https://www.bookdepository.com/bestsellers?page=5\n"
     ]
    }
   ],
   "source": [
    "#testing the method:\n",
    "page = 1\n",
    "while page != 6:\n",
    "    url = f\"https://www.bookdepository.com/bestsellers?page={page}\"\n",
    "    print(url)\n",
    "    page = page + 1"
   ]
  },
  {
   "cell_type": "code",
   "execution_count": 2,
   "id": "7d73ca76",
   "metadata": {},
   "outputs": [],
   "source": [
    "page = 1\n",
    "titles = []\n",
    "while page != 35:\n",
    "    \n",
    "    #basic webscrape procedure\n",
    "    url = f\"https://www.bookdepository.com/bestsellers?page={page}\"\n",
    "    response = requests.get(url)\n",
    "    html = response.content\n",
    "    soup = bs(html, \"lxml\")\n",
    "    \n",
    "    #get all title:\n",
    "    for h3 in soup.find_all(\"h3\", class_=\"title\"):\n",
    "        # .get_text() removes the tags like <h3>\n",
    "        # strip remove whitespaces\n",
    "        titles.append(h3.get_text(strip = True))\n",
    "    page = page + 1"
   ]
  },
  {
   "cell_type": "code",
   "execution_count": 3,
   "id": "92493c45",
   "metadata": {},
   "outputs": [
    {
     "data": {
      "text/plain": [
       "1020"
      ]
     },
     "execution_count": 3,
     "metadata": {},
     "output_type": "execute_result"
    }
   ],
   "source": [
    "len(titles)"
   ]
  },
  {
   "cell_type": "code",
   "execution_count": 4,
   "id": "55b87ff4",
   "metadata": {},
   "outputs": [
    {
     "name": "stdout",
     "output_type": "stream",
     "text": [
      "It Ends With Us: The most heartbreaking novel you'll ever read\n",
      "Heaven Official's Blessing: Tian Guan Ci Fu (Novel) Vol. 2\n",
      "The Love Hypothesis\n",
      "Ugly Love\n",
      "Seven Husbands of Evelyn Hugo\n",
      "Chainsaw Man, Vol. 1\n"
     ]
    }
   ],
   "source": [
    "for title in titles[:6]:\n",
    "    print(title)"
   ]
  },
  {
   "cell_type": "markdown",
   "id": "7975558c",
   "metadata": {},
   "source": [
    "## Get the formats "
   ]
  },
  {
   "cell_type": "code",
   "execution_count": 5,
   "id": "f90a502d",
   "metadata": {},
   "outputs": [],
   "source": [
    "#formats = soup.find_all(\"p\", class_=\"format\")s\n",
    "# the same:\n",
    "formats = soup.select(\"div.item-info p.format\")"
   ]
  },
  {
   "cell_type": "code",
   "execution_count": 6,
   "id": "25a816ed",
   "metadata": {},
   "outputs": [
    {
     "data": {
      "text/plain": [
       "[<p class=\"format\">Paperback</p>,\n",
       " <p class=\"format\">Paperback</p>,\n",
       " <p class=\"format\">Paperback</p>]"
      ]
     },
     "execution_count": 6,
     "metadata": {},
     "output_type": "execute_result"
    }
   ],
   "source": [
    "formats[:3]"
   ]
  },
  {
   "cell_type": "code",
   "execution_count": 7,
   "id": "eb649f38",
   "metadata": {},
   "outputs": [],
   "source": [
    "#So it clears, like .get_text() and create a pandas series\n",
    "format_series = pd.Series(formats)"
   ]
  },
  {
   "cell_type": "code",
   "execution_count": 8,
   "id": "6ca9d659",
   "metadata": {},
   "outputs": [
    {
     "data": {
      "text/plain": [
       "0    [Paperback]\n",
       "1    [Paperback]\n",
       "2    [Paperback]\n",
       "dtype: object"
      ]
     },
     "execution_count": 8,
     "metadata": {},
     "output_type": "execute_result"
    }
   ],
   "source": [
    "format_series[:3]"
   ]
  },
  {
   "cell_type": "code",
   "execution_count": 9,
   "id": "1f656356",
   "metadata": {},
   "outputs": [
    {
     "data": {
      "text/plain": [
       "Paperback              816\n",
       "Hardback               161\n",
       "Board book              19\n",
       "Cards                   13\n",
       "Book                     3\n",
       "Mixed media product      2\n",
       "Game                     2\n",
       "Diary                    1\n",
       "Spiral bound             1\n",
       "Toy                      1\n",
       "Leather                  1\n",
       "dtype: int64"
      ]
     },
     "execution_count": 9,
     "metadata": {},
     "output_type": "execute_result"
    }
   ],
   "source": [
    "#get all formats (same method with titles):\n",
    "\n",
    "page = 1\n",
    "formats_all = []\n",
    "while page != 35:\n",
    "    url = f\"https://www.bookdepository.com/bestsellers?page={page}\"\n",
    "    response = requests.get(url)\n",
    "    html = response.content\n",
    "    soup = bs(html, \"lxml\")\n",
    "    \n",
    "    formats_on_page = soup.select(\"div.item-info p.format\")\n",
    "    \n",
    "    #Add that element wich one is on scrape (index)\n",
    "    for product_format in formats_on_page:\n",
    "        formats_all.append(product_format.get_text())\n",
    "        \n",
    "    page = page + 1\n",
    "    \n",
    "formats_series = pd.Series(formats_all)\n",
    "formats_series.value_counts()"
   ]
  },
  {
   "cell_type": "code",
   "execution_count": 10,
   "id": "8c03a42d",
   "metadata": {},
   "outputs": [
    {
     "data": {
      "text/plain": [
       "Paperback              0.800000\n",
       "Hardback               0.157843\n",
       "Board book             0.018627\n",
       "Cards                  0.012745\n",
       "Book                   0.002941\n",
       "Mixed media product    0.001961\n",
       "Game                   0.001961\n",
       "Diary                  0.000980\n",
       "Spiral bound           0.000980\n",
       "Toy                    0.000980\n",
       "Leather                0.000980\n",
       "dtype: float64"
      ]
     },
     "execution_count": 10,
     "metadata": {},
     "output_type": "execute_result"
    }
   ],
   "source": [
    "#Get the percentage value:\n",
    "formats_series.value_counts(normalize = True)"
   ]
  },
  {
   "cell_type": "markdown",
   "id": "ec56337a",
   "metadata": {},
   "source": [
    "## Getting publication dates"
   ]
  },
  {
   "cell_type": "code",
   "execution_count": 48,
   "id": "596defd9",
   "metadata": {},
   "outputs": [
    {
     "data": {
      "text/plain": [
       "2021    208\n",
       "2022    181\n",
       "2020    116\n",
       "2018     94\n",
       "2019     75\n",
       "2016     51\n",
       "2015     48\n",
       "2017     47\n",
       "2011     36\n",
       "2012     29\n",
       "2014     22\n",
       "2013     19\n",
       "2009     13\n",
       "2010     12\n",
       "2007      9\n",
       "1997      8\n",
       "2008      7\n",
       "2000      7\n",
       "2005      7\n",
       "2006      6\n",
       "2004      4\n",
       "2003      3\n",
       "1995      3\n",
       "2002      2\n",
       "1998      2\n",
       "1994      2\n",
       "1999      2\n",
       "1991      2\n",
       "1968      1\n",
       "1996      1\n",
       "2001      1\n",
       "1992      1\n",
       "dtype: int64"
      ]
     },
     "execution_count": 48,
     "metadata": {},
     "output_type": "execute_result"
    }
   ],
   "source": [
    "page = 1\n",
    "dates = []\n",
    "while page != 35:\n",
    "    url = f\"https://www.bookdepository.com/bestsellers?page={page}\"\n",
    "    response = requests.get(url)\n",
    "    html = response.content\n",
    "    soup = bs(html, \"lxml\")\n",
    "    dates_on_page = soup.find_all(\"p\", class_=\"published\")\n",
    "    \n",
    "    for date in dates_on_page:\n",
    "        dates.append((date.get_text()[-4:]))\n",
    "\n",
    "    page = page + 1\n",
    "    \n",
    "dates_series = pd.Series(dates)\n",
    "dates_series.value_counts()\n"
   ]
  },
  {
   "cell_type": "markdown",
   "id": "975ea9e8",
   "metadata": {},
   "source": [
    "## Getting Prices\n"
   ]
  },
  {
   "cell_type": "code",
   "execution_count": 55,
   "id": "9fafb636",
   "metadata": {},
   "outputs": [],
   "source": [
    "final_prices = []\n",
    "prices = soup.find_all(\"p\", class_=\"price\")\n",
    "\n",
    "for price in prices:\n",
    "    original_price = price.find(\"span\", class_=\"rrp\")\n",
    "    if original_price:\n",
    "        current_price = str(original_price.previousSibling).strip()\n",
    "        "
   ]
  },
  {
   "cell_type": "code",
   "execution_count": 56,
   "id": "dc54cae1",
   "metadata": {},
   "outputs": [
    {
     "data": {
      "text/plain": [
       "'3\\xa0953 Ft'"
      ]
     },
     "execution_count": 56,
     "metadata": {},
     "output_type": "execute_result"
    }
   ],
   "source": [
    "current_price"
   ]
  },
  {
   "cell_type": "code",
   "execution_count": null,
   "id": "801f04e7",
   "metadata": {},
   "outputs": [],
   "source": []
  },
  {
   "cell_type": "code",
   "execution_count": null,
   "id": "c1d01622",
   "metadata": {},
   "outputs": [],
   "source": []
  },
  {
   "cell_type": "code",
   "execution_count": null,
   "id": "ad91cf8b",
   "metadata": {},
   "outputs": [],
   "source": [
    "#somehowe have to change the value of currency, but it's not the easyest thing"
   ]
  },
  {
   "cell_type": "code",
   "execution_count": 75,
   "id": "471c3937",
   "metadata": {},
   "outputs": [],
   "source": [
    "    url = f\"https://www.bookdepository.com/bestsellers?page=1\"\n",
    "    headers = {\"Accept-Language\": \"en-US,en;q=0.5\"}\n",
    "    response = requests.get(url, headers=headers)\n",
    "    html = response.content\n",
    "    soup = bs(html, \"lxml\")\n",
    "    valuta = soup.find_all(\"option\", selected=\"selected\")"
   ]
  },
  {
   "cell_type": "code",
   "execution_count": 76,
   "id": "33414a76",
   "metadata": {},
   "outputs": [
    {
     "data": {
      "text/plain": [
       "[<option selected=\"selected\" value=\"en_US\">\n",
       "                     English</option>,\n",
       " <option selected=\"selected\" value=\"HUF\">\n",
       " \t\t\t\t\tFt HUF</option>]"
      ]
     },
     "execution_count": 76,
     "metadata": {},
     "output_type": "execute_result"
    }
   ],
   "source": [
    "valuta "
   ]
  },
  {
   "cell_type": "code",
   "execution_count": null,
   "id": "02da2d3d",
   "metadata": {},
   "outputs": [],
   "source": []
  }
 ],
 "metadata": {
  "kernelspec": {
   "display_name": "Python 3 (ipykernel)",
   "language": "python",
   "name": "python3"
  },
  "language_info": {
   "codemirror_mode": {
    "name": "ipython",
    "version": 3
   },
   "file_extension": ".py",
   "mimetype": "text/x-python",
   "name": "python",
   "nbconvert_exporter": "python",
   "pygments_lexer": "ipython3",
   "version": "3.10.2"
  }
 },
 "nbformat": 4,
 "nbformat_minor": 5
}
