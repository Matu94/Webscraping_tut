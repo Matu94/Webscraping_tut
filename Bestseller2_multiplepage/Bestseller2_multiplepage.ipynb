{
 "cells": [
  {
   "cell_type": "code",
   "execution_count": 3,
   "id": "e9e76f5d",
   "metadata": {},
   "outputs": [],
   "source": [
    "#Understand the magic in the previus task\n",
    "dates = ['cica', 'kutya', 'mérésihiba']\n",
    "dates = [date.upper() for date in dates]"
   ]
  },
  {
   "cell_type": "code",
   "execution_count": 4,
   "id": "ab4efc68",
   "metadata": {},
   "outputs": [
    {
     "name": "stdout",
     "output_type": "stream",
     "text": [
      "['CICA', 'KUTYA', 'MÉRÉSIHIBA']\n"
     ]
    }
   ],
   "source": [
    "print(dates)"
   ]
  },
  {
   "cell_type": "markdown",
   "id": "fb77d2de",
   "metadata": {},
   "source": [
    "# Webscraping multiple pages\n",
    "https://data36.com/scrape-multiple-web-pages-beautiful-soup-tutorial/"
   ]
  },
  {
   "cell_type": "code",
   "execution_count": 7,
   "id": "d7081b80",
   "metadata": {},
   "outputs": [],
   "source": [
    "from bs4 import BeautifulSoup as bs\n",
    "import requests\n",
    "import numpy as np\n",
    "import pandas as pd\n",
    "import matplotlib.pyplot as plt\n",
    "%matplotlib inline "
   ]
  },
  {
   "cell_type": "markdown",
   "id": "a69d4761",
   "metadata": {},
   "source": [
    "## Collecting all bestseller book titles"
   ]
  },
  {
   "cell_type": "code",
   "execution_count": 8,
   "id": "82d12e9d",
   "metadata": {},
   "outputs": [
    {
     "name": "stdout",
     "output_type": "stream",
     "text": [
      "https://www.bookdepository.com/bestsellers?page=1\n",
      "https://www.bookdepository.com/bestsellers?page=2\n",
      "https://www.bookdepository.com/bestsellers?page=3\n",
      "https://www.bookdepository.com/bestsellers?page=4\n",
      "https://www.bookdepository.com/bestsellers?page=5\n"
     ]
    }
   ],
   "source": [
    "#testing the method:\n",
    "page = 1\n",
    "while page != 6:\n",
    "    url = f\"https://www.bookdepository.com/bestsellers?page={page}\"\n",
    "    print(url)\n",
    "    page = page + 1"
   ]
  },
  {
   "cell_type": "code",
   "execution_count": 19,
   "id": "7d73ca76",
   "metadata": {},
   "outputs": [],
   "source": [
    "page = 1\n",
    "titles = []\n",
    "while page != 35:\n",
    "    \n",
    "    #basic webscrape procedure\n",
    "    url = f\"https://www.bookdepository.com/bestsellers?page={page}\"\n",
    "    response = requests.get(url)\n",
    "    html = response.content\n",
    "    soup = bs(html, \"lxml\")\n",
    "    \n",
    "    #get all title:\n",
    "    for h3 in soup.find_all(\"h3\", class_=\"title\"):\n",
    "        # .get_text() removes the tags like <h3>\n",
    "        # strip remove whitespaces\n",
    "        titles.append(h3.get_text(strip = True))\n",
    "    page = page + 1"
   ]
  },
  {
   "cell_type": "code",
   "execution_count": 21,
   "id": "92493c45",
   "metadata": {},
   "outputs": [
    {
     "data": {
      "text/plain": [
       "1020"
      ]
     },
     "execution_count": 21,
     "metadata": {},
     "output_type": "execute_result"
    }
   ],
   "source": [
    "len(titles)"
   ]
  },
  {
   "cell_type": "code",
   "execution_count": 22,
   "id": "55b87ff4",
   "metadata": {},
   "outputs": [
    {
     "name": "stdout",
     "output_type": "stream",
     "text": [
      "It Ends With Us: The most heartbreaking novel you'll ever read\n",
      "Heaven Official's Blessing: Tian Guan Ci Fu (Novel) Vol. 2\n",
      "Seven Husbands of Evelyn Hugo\n",
      "Ugly Love\n",
      "The Love Hypothesis\n",
      "Chainsaw Man, Vol. 1\n"
     ]
    }
   ],
   "source": [
    "for title in titles[:6]:\n",
    "    print(title)"
   ]
  },
  {
   "cell_type": "markdown",
   "id": "7975558c",
   "metadata": {},
   "source": [
    "## Get the formats "
   ]
  },
  {
   "cell_type": "code",
   "execution_count": 27,
   "id": "f90a502d",
   "metadata": {},
   "outputs": [],
   "source": [
    "#formats = soup.find_all(\"p\", class_=\"format\")s\n",
    "# the same:\n",
    "formats = soup.select(\"div.item-info p.format\")"
   ]
  },
  {
   "cell_type": "code",
   "execution_count": 28,
   "id": "25a816ed",
   "metadata": {},
   "outputs": [
    {
     "data": {
      "text/plain": [
       "[<p class=\"format\">Paperback</p>,\n",
       " <p class=\"format\">Hardback</p>,\n",
       " <p class=\"format\">Hardback</p>]"
      ]
     },
     "execution_count": 28,
     "metadata": {},
     "output_type": "execute_result"
    }
   ],
   "source": [
    "formats[:3]"
   ]
  },
  {
   "cell_type": "code",
   "execution_count": 29,
   "id": "eb649f38",
   "metadata": {},
   "outputs": [],
   "source": [
    "#So it clears, like .get_text() and create a pandas series\n",
    "format_series = pd.Series(formats)"
   ]
  },
  {
   "cell_type": "code",
   "execution_count": 31,
   "id": "6ca9d659",
   "metadata": {},
   "outputs": [
    {
     "data": {
      "text/plain": [
       "0    [Paperback]\n",
       "1     [Hardback]\n",
       "2     [Hardback]\n",
       "dtype: object"
      ]
     },
     "execution_count": 31,
     "metadata": {},
     "output_type": "execute_result"
    }
   ],
   "source": [
    "format_series[:3]"
   ]
  },
  {
   "cell_type": "code",
   "execution_count": 33,
   "id": "1f656356",
   "metadata": {},
   "outputs": [
    {
     "data": {
      "text/plain": [
       "Paperback              799\n",
       "Hardback               175\n",
       "Board book              20\n",
       "Cards                   13\n",
       "Game                     3\n",
       "Book                     3\n",
       "Mixed media product      2\n",
       "Spiral bound             1\n",
       "Toy                      1\n",
       "Novelty book             1\n",
       "Leather                  1\n",
       "Sheet music              1\n",
       "dtype: int64"
      ]
     },
     "execution_count": 33,
     "metadata": {},
     "output_type": "execute_result"
    }
   ],
   "source": [
    "#get all formats (same method with titles):\n",
    "\n",
    "page = 1\n",
    "formats_all = []\n",
    "while page != 35:\n",
    "    url = f\"https://www.bookdepository.com/bestsellers?page={page}\"\n",
    "    response = requests.get(url)\n",
    "    html = response.content\n",
    "    soup = bs(html, \"lxml\")\n",
    "    \n",
    "    formats_on_page = soup.select(\"div.item-info p.format\")\n",
    "    \n",
    "    #Add that element wich one is on scrape (index)\n",
    "    for product_format in formats_on_page:\n",
    "        formats_all.append(product_format.get_text())\n",
    "        \n",
    "    page = page + 1\n",
    "    \n",
    "formats_series = pd.Series(formats_all)\n",
    "formats_series.value_counts()"
   ]
  },
  {
   "cell_type": "code",
   "execution_count": 34,
   "id": "8c03a42d",
   "metadata": {},
   "outputs": [
    {
     "data": {
      "text/plain": [
       "Paperback              0.783333\n",
       "Hardback               0.171569\n",
       "Board book             0.019608\n",
       "Cards                  0.012745\n",
       "Game                   0.002941\n",
       "Book                   0.002941\n",
       "Mixed media product    0.001961\n",
       "Spiral bound           0.000980\n",
       "Toy                    0.000980\n",
       "Novelty book           0.000980\n",
       "Leather                0.000980\n",
       "Sheet music            0.000980\n",
       "dtype: float64"
      ]
     },
     "execution_count": 34,
     "metadata": {},
     "output_type": "execute_result"
    }
   ],
   "source": [
    "#Get the percentage value:\n",
    "formats_series.value_counts(normalize = True)"
   ]
  },
  {
   "cell_type": "code",
   "execution_count": null,
   "id": "27bf1cf3",
   "metadata": {},
   "outputs": [],
   "source": []
  }
 ],
 "metadata": {
  "kernelspec": {
   "display_name": "Python 3 (ipykernel)",
   "language": "python",
   "name": "python3"
  },
  "language_info": {
   "codemirror_mode": {
    "name": "ipython",
    "version": 3
   },
   "file_extension": ".py",
   "mimetype": "text/x-python",
   "name": "python",
   "nbconvert_exporter": "python",
   "pygments_lexer": "ipython3",
   "version": "3.10.2"
  }
 },
 "nbformat": 4,
 "nbformat_minor": 5
}
