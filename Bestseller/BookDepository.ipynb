{
 "cells": [
  {
   "cell_type": "markdown",
   "id": "3466ddd5",
   "metadata": {},
   "source": [
    "# bookdepository.com bestsellers webscaping\n",
    "### https://data36.com/beautiful-soup-tutorial-web-scraping/"
   ]
  },
  {
   "cell_type": "code",
   "execution_count": 59,
   "id": "f87cbaba",
   "metadata": {},
   "outputs": [],
   "source": [
    "import pandas as pd\n",
    "from bs4 import BeautifulSoup as bs\n",
    "import requests"
   ]
  },
  {
   "cell_type": "markdown",
   "id": "2ba9a528",
   "metadata": {},
   "source": [
    "# Basics"
   ]
  },
  {
   "cell_type": "code",
   "execution_count": 60,
   "id": "f8f7238f",
   "metadata": {},
   "outputs": [],
   "source": [
    "#The URL we want to scape:\n",
    "url = \"https://www.bookdepository.com/bestsellers\" \n",
    "\n",
    "response = requests.get(url)"
   ]
  },
  {
   "cell_type": "code",
   "execution_count": 61,
   "id": "792bcbe8",
   "metadata": {},
   "outputs": [
    {
     "data": {
      "text/plain": [
       "<Response [200]>"
      ]
     },
     "execution_count": 61,
     "metadata": {},
     "output_type": "execute_result"
    }
   ],
   "source": [
    "#If the response value (status code) = 200 then the request was successful\n",
    "response"
   ]
  },
  {
   "cell_type": "code",
   "execution_count": 62,
   "id": "e67f1970",
   "metadata": {},
   "outputs": [],
   "source": [
    "#Get the HTML contet (that's what we need)\n",
    "html = response.content"
   ]
  },
  {
   "cell_type": "code",
   "execution_count": 63,
   "id": "105620cd",
   "metadata": {},
   "outputs": [],
   "source": [
    "#Creating a BeautifulSoup object\n",
    "#lxml is the parser\n",
    "#soup is more readable than html \n",
    "soup = bs(html, \"lxml\")"
   ]
  },
  {
   "cell_type": "markdown",
   "id": "904f85af",
   "metadata": {},
   "source": [
    "# bs methods:"
   ]
  },
  {
   "cell_type": "code",
   "execution_count": 8,
   "id": "d979763c",
   "metadata": {},
   "outputs": [
    {
     "data": {
      "text/plain": [
       "<title>\n",
       "\tBestselling books online with free delivery at Book Depository</title>"
      ]
     },
     "execution_count": 8,
     "metadata": {},
     "output_type": "execute_result"
    }
   ],
   "source": [
    "#Get the title html\n",
    "soup.title"
   ]
  },
  {
   "cell_type": "code",
   "execution_count": 13,
   "id": "5ae702b4",
   "metadata": {},
   "outputs": [
    {
     "data": {
      "text/plain": [
       "'Bestsellers – our most popular items, updated daily.'"
      ]
     },
     "execution_count": 13,
     "metadata": {},
     "output_type": "execute_result"
    }
   ],
   "source": [
    "#Get only the h1 text\n",
    "soup.h1.get_text()"
   ]
  },
  {
   "cell_type": "code",
   "execution_count": 14,
   "id": "6724e2a8",
   "metadata": {},
   "outputs": [
    {
     "data": {
      "text/plain": [
       "'/help/topic/HelpId/53/How-we-use-cookies#helpContent'"
      ]
     },
     "execution_count": 14,
     "metadata": {},
     "output_type": "execute_result"
    }
   ],
   "source": [
    "#Get only an element's attribute:\n",
    "soup.a[\"href\"]"
   ]
  },
  {
   "cell_type": "code",
   "execution_count": 15,
   "id": "c1cfa045",
   "metadata": {},
   "outputs": [
    {
     "data": {
      "text/plain": [
       "<h1>Bestsellers – our most popular items, updated daily.</h1>"
      ]
     },
     "execution_count": 15,
     "metadata": {},
     "output_type": "execute_result"
    }
   ],
   "source": [
    "#Return only 1 element\n",
    "soup.find(\"h1\")"
   ]
  },
  {
   "cell_type": "code",
   "execution_count": 17,
   "id": "31978103",
   "metadata": {},
   "outputs": [
    {
     "data": {
      "text/plain": [
       "[<h2>We use cookies to improve this site</h2>,\n",
       " <h2>Are you happy to accept cookies?</h2>,\n",
       " <h2>Cookie Preferences</h2>,\n",
       " <h2>Essential</h2>,\n",
       " <h2>Performance and Analytics</h2>,\n",
       " <h2>Advertising</h2>,\n",
       " <h2>Top Authors</h2>,\n",
       " <h2>Bestselling Series</h2>,\n",
       " <h2>Books By Language</h2>,\n",
       " <h2>Filter your search</h2>]"
      ]
     },
     "execution_count": 17,
     "metadata": {},
     "output_type": "execute_result"
    }
   ],
   "source": [
    "#Returns all element - in a list!  -- soup(\"h2\") does the same!\n",
    "soup.find_all('h2')"
   ]
  },
  {
   "cell_type": "markdown",
   "id": "4b10f466",
   "metadata": {},
   "source": [
    "# Extract Data - Getting the book titles"
   ]
  },
  {
   "cell_type": "code",
   "execution_count": 25,
   "id": "d8e3a47f",
   "metadata": {},
   "outputs": [
    {
     "name": "stdout",
     "output_type": "stream",
     "text": [
      "Letters to You\n",
      "It Ends With Us: The most heartbreaking novel you'll ever read\n",
      "Seven Husbands of Evelyn Hugo\n",
      "Heaven Official's Blessing: Tian Guan Ci Fu (Novel) Vol. 2\n",
      "Chainsaw Man, Vol. 2\n",
      "Ugly Love\n",
      "The Spanish Love Deception\n",
      "Grandmaster of Demonic Cultivation\n",
      "The Midnight Library\n",
      "Atomic Habits\n",
      "Heaven Official's Blessing\n",
      "Fast 800 Keto\n",
      "Reminders of Him\n",
      "Verity\n",
      "November 9\n",
      "Chainsaw Man, Vol. 4\n",
      "Chainsaw Man, Vol. 3\n",
      "The Song of Achilles\n",
      "Chainsaw Man, Vol. 9\n",
      "Normal People\n",
      "The Love Hypothesis\n",
      "The Scum Villain's Self-Saving System\n",
      "Before the Coffee Gets Cold\n",
      "The Heart Principle\n",
      "The Real Anthony Fauci\n",
      "Where the Crawdads Sing\n",
      "Chainsaw Man, Vol. 6\n",
      "Chainsaw Man, Vol. 5\n",
      "The Body Keeps the Score\n",
      "The Hating Game\n"
     ]
    }
   ],
   "source": [
    "all_h3 = soup.find_all(\"h3\", class_=\"title\") #_ after the class is bcs the \"class\"\n",
    "for h3 in all_h3:\n",
    "    print(h3.get_text(strip = True))       #Strip -- removes whitespaces"
   ]
  },
  {
   "cell_type": "markdown",
   "id": "5683c1ac",
   "metadata": {},
   "source": [
    "# Get the book formats"
   ]
  },
  {
   "cell_type": "code",
   "execution_count": 27,
   "id": "65f79a01",
   "metadata": {},
   "outputs": [],
   "source": [
    "#find all paragraph elements with the class of format that are inside of a div element with the class of item-info\n",
    "#.select() is similar than find_all(), but van handle css selectors\n",
    "formats = soup.select(\"div.item-info p.format\")"
   ]
  },
  {
   "cell_type": "code",
   "execution_count": 29,
   "id": "f6fae9c0",
   "metadata": {},
   "outputs": [
    {
     "data": {
      "text/plain": [
       "[<p class=\"format\">Hardback</p>,\n",
       " <p class=\"format\">Paperback</p>,\n",
       " <p class=\"format\">Paperback</p>,\n",
       " <p class=\"format\">Paperback</p>,\n",
       " <p class=\"format\">Paperback</p>,\n",
       " <p class=\"format\">Paperback</p>,\n",
       " <p class=\"format\">Paperback</p>,\n",
       " <p class=\"format\">Paperback</p>,\n",
       " <p class=\"format\">Paperback</p>,\n",
       " <p class=\"format\">Paperback</p>,\n",
       " <p class=\"format\">Paperback</p>,\n",
       " <p class=\"format\">Paperback</p>,\n",
       " <p class=\"format\">Paperback</p>,\n",
       " <p class=\"format\">Paperback</p>,\n",
       " <p class=\"format\">Paperback</p>,\n",
       " <p class=\"format\">Paperback</p>,\n",
       " <p class=\"format\">Paperback</p>,\n",
       " <p class=\"format\">Paperback</p>,\n",
       " <p class=\"format\">Paperback</p>,\n",
       " <p class=\"format\">Paperback</p>,\n",
       " <p class=\"format\">Paperback</p>,\n",
       " <p class=\"format\">Paperback</p>,\n",
       " <p class=\"format\">Paperback</p>,\n",
       " <p class=\"format\">Paperback</p>,\n",
       " <p class=\"format\">Hardback</p>,\n",
       " <p class=\"format\">Paperback</p>,\n",
       " <p class=\"format\">Paperback</p>,\n",
       " <p class=\"format\">Paperback</p>,\n",
       " <p class=\"format\">Paperback</p>,\n",
       " <p class=\"format\">Paperback</p>]"
      ]
     },
     "execution_count": 29,
     "metadata": {},
     "output_type": "execute_result"
    }
   ],
   "source": [
    "formats  #Its a list again!"
   ]
  },
  {
   "cell_type": "code",
   "execution_count": 30,
   "id": "bd36a246",
   "metadata": {},
   "outputs": [],
   "source": [
    "#Creating a pandas series\n",
    "formats_series = pd.Series(formats)"
   ]
  },
  {
   "cell_type": "code",
   "execution_count": 31,
   "id": "dfd136ad",
   "metadata": {},
   "outputs": [
    {
     "data": {
      "text/plain": [
       "0      [Hardback]\n",
       "1     [Paperback]\n",
       "2     [Paperback]\n",
       "3     [Paperback]\n",
       "4     [Paperback]\n",
       "5     [Paperback]\n",
       "6     [Paperback]\n",
       "7     [Paperback]\n",
       "8     [Paperback]\n",
       "9     [Paperback]\n",
       "10    [Paperback]\n",
       "11    [Paperback]\n",
       "12    [Paperback]\n",
       "13    [Paperback]\n",
       "14    [Paperback]\n",
       "15    [Paperback]\n",
       "16    [Paperback]\n",
       "17    [Paperback]\n",
       "18    [Paperback]\n",
       "19    [Paperback]\n",
       "20    [Paperback]\n",
       "21    [Paperback]\n",
       "22    [Paperback]\n",
       "23    [Paperback]\n",
       "24     [Hardback]\n",
       "25    [Paperback]\n",
       "26    [Paperback]\n",
       "27    [Paperback]\n",
       "28    [Paperback]\n",
       "29    [Paperback]\n",
       "dtype: object"
      ]
     },
     "execution_count": 31,
     "metadata": {},
     "output_type": "execute_result"
    }
   ],
   "source": [
    "formats_series"
   ]
  },
  {
   "cell_type": "code",
   "execution_count": 32,
   "id": "4aa71eba",
   "metadata": {},
   "outputs": [
    {
     "data": {
      "text/plain": [
       "[Paperback]    28\n",
       "[Hardback]      2\n",
       "dtype: int64"
      ]
     },
     "execution_count": 32,
     "metadata": {},
     "output_type": "execute_result"
    }
   ],
   "source": [
    "formats_series.value_counts()"
   ]
  },
  {
   "cell_type": "markdown",
   "id": "b0b3c6e2",
   "metadata": {},
   "source": [
    "# Getting the publication dates"
   ]
  },
  {
   "cell_type": "code",
   "execution_count": 38,
   "id": "db043682",
   "metadata": {},
   "outputs": [
    {
     "data": {
      "text/plain": [
       "2021    13\n",
       "2022     6\n",
       "2019     3\n",
       "2016     2\n",
       "2015     2\n",
       "2017     2\n",
       "2020     1\n",
       "2018     1\n",
       "dtype: int64"
      ]
     },
     "execution_count": 38,
     "metadata": {},
     "output_type": "execute_result"
    }
   ],
   "source": [
    "dates = soup.find_all(\"p\", class_=\"published\")\n",
    "dates = [date.get_text()[-4:] for date in dates] #some magic what i dont exactly understand right now\n",
    "dates_series = pd.Series(dates)\n",
    "dates_series.value_counts()"
   ]
  },
  {
   "cell_type": "markdown",
   "id": "51be3078",
   "metadata": {},
   "source": [
    "# Getting the prices"
   ]
  },
  {
   "cell_type": "code",
   "execution_count": null,
   "id": "cb9671a7",
   "metadata": {},
   "outputs": [],
   "source": [
    "final_prices = []\n",
    "prices = soup.find_all(\"p\", class_=\"price\")\n",
    "\n",
    "for price in prices:\n",
    "    original_price = price.find(\"span\", class_=\"rrp\")\n",
    "    if original_price:\n",
    "        current_price = str(original_price.previousSibling).strip()\n",
    "        current_price = float(current_price.split(\"€\")[0].replace(\",\", \".\"))\n",
    "    else:\n",
    "        current_price = float(price.get_text(strip=True).split(\"€\")[0].replace(\",\", \".\"))\n",
    "        final_prices.append(current_price)"
   ]
  },
  {
   "cell_type": "code",
   "execution_count": null,
   "id": "e59ccfdf",
   "metadata": {},
   "outputs": [],
   "source": []
  }
 ],
 "metadata": {
  "kernelspec": {
   "display_name": "Python 3 (ipykernel)",
   "language": "python",
   "name": "python3"
  },
  "language_info": {
   "codemirror_mode": {
    "name": "ipython",
    "version": 3
   },
   "file_extension": ".py",
   "mimetype": "text/x-python",
   "name": "python",
   "nbconvert_exporter": "python",
   "pygments_lexer": "ipython3",
   "version": "3.10.2"
  }
 },
 "nbformat": 4,
 "nbformat_minor": 5
}
